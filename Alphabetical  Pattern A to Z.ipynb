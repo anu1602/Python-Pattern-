{
 "cells": [
  {
   "cell_type": "markdown",
   "metadata": {},
   "source": [
    "# Pattern in Alphabet"
   ]
  },
  {
   "cell_type": "markdown",
   "metadata": {},
   "source": [
    "                                                                                  Created By ~ Mr. Anurag Pandey "
   ]
  },
  {
   "cell_type": "code",
   "execution_count": 2,
   "metadata": {},
   "outputs": [
    {
     "name": "stdout",
     "output_type": "stream",
     "text": [
      "  * * *   \n",
      "*       * \n",
      "*       * \n",
      "* * * * * \n",
      "*       * \n",
      "*       * \n",
      "*       * \n"
     ]
    }
   ],
   "source": [
    "## print alphabet  pattern 'A'\n",
    "\n",
    "for row in range(7):\n",
    "    for col in range(5):\n",
    "        if (row==0) and (col in {1,2,3}):\n",
    "            print('*', end=\" \")\n",
    "        elif (row in {1,2,4,5,6}) and (col in {0, 4}):\n",
    "            print('*', end=' ')\n",
    "        elif (row == 3):\n",
    "            print('*', end=' ')\n",
    "        else:\n",
    "            print(' ', end=' ')\n",
    "    print()"
   ]
  },
  {
   "cell_type": "code",
   "execution_count": 3,
   "metadata": {},
   "outputs": [
    {
     "name": "stdout",
     "output_type": "stream",
     "text": [
      "* * * *   \n",
      "*       * \n",
      "*       * \n",
      "* * * *   \n",
      "*       * \n",
      "*       * \n",
      "* * * *   \n"
     ]
    }
   ],
   "source": [
    "## print alphabet  pattern 'B'\n",
    "for row in range(7):\n",
    "    for col in range(5):\n",
    "        if row in {0, 3, 6 } and col in {0, 1, 2, 3}:\n",
    "            print('*', end=\" \")\n",
    "        elif row in {1, 2, 4, 5} and col in {0, 4}:\n",
    "            print('*', end=\" \")\n",
    "        else:\n",
    "            print(' ', end=\" \")\n",
    "    print()"
   ]
  },
  {
   "cell_type": "code",
   "execution_count": 4,
   "metadata": {},
   "outputs": [
    {
     "name": "stdout",
     "output_type": "stream",
     "text": [
      "  * * *   \n",
      "*       * \n",
      "*         \n",
      "*         \n",
      "*         \n",
      "*       * \n",
      "  * * *   \n"
     ]
    }
   ],
   "source": [
    "## print alphabet  pattern 'C'\n",
    "\n",
    "for row in range(7):\n",
    "    for col in range(5):\n",
    "        if row in {0,6} and col in {1,2,3}:\n",
    "            print('*', end=\" \")\n",
    "        elif row in {1,5} and col in {0,4}:\n",
    "            print('*', end=\" \")\n",
    "        elif row in{2,3,4} and col in {0}:\n",
    "            print('*', end=\" \")\n",
    "        else:\n",
    "            print(' ', end=\" \")\n",
    "    print()"
   ]
  },
  {
   "cell_type": "code",
   "execution_count": 5,
   "metadata": {},
   "outputs": [
    {
     "name": "stdout",
     "output_type": "stream",
     "text": [
      "* * * *   \n",
      "*       * \n",
      "*       * \n",
      "*       * \n",
      "*       * \n",
      "*       * \n",
      "* * * *   \n"
     ]
    }
   ],
   "source": [
    "## print alphabet  pattern 'D'\n",
    "\n",
    "for  row in range(7):\n",
    "    for  col in range(5):\n",
    "        if row in {0,6 }  and col in {0,1,2,3}:\n",
    "            print('*', end=' ')\n",
    "        elif row in {1,2,3,4,5} and col in {0,4}:\n",
    "            print('*', end=' ')\n",
    "        else:\n",
    "            print(' ', end=' ')\n",
    "    print()"
   ]
  },
  {
   "cell_type": "code",
   "execution_count": 6,
   "metadata": {},
   "outputs": [
    {
     "name": "stdout",
     "output_type": "stream",
     "text": [
      "* * * * * \n",
      "* \n",
      "* \n",
      "* * * * * \n",
      "* \n",
      "* \n",
      "* * * * * \n"
     ]
    }
   ],
   "source": [
    "## print alphabet  pattern 'E'\n",
    "for row in range(7):\n",
    "    for col in range(5):\n",
    "        if row in {0,3,6} and col in {0,1,2,3,4}:\n",
    "            print('*', end=' ')\n",
    "        elif row in {1,2,4,5} and col in {0}:\n",
    "            print('*', end=' ')\n",
    "    print()\n",
    "    "
   ]
  },
  {
   "cell_type": "code",
   "execution_count": 7,
   "metadata": {},
   "outputs": [
    {
     "name": "stdout",
     "output_type": "stream",
     "text": [
      "* * * * * \n",
      "* \n",
      "* \n",
      "* * * * * \n",
      "* \n",
      "* \n",
      "* \n"
     ]
    }
   ],
   "source": [
    "## print alphabet  pattern 'F'\n",
    "for row in range(7):\n",
    "    for col in range(5):\n",
    "        if row in {0,3} and col in {0,1,2,3,4}:\n",
    "            print('*', end=' ')\n",
    "        elif row in {1,2,4,5,6} and col in {0}:\n",
    "            print('*', end=' ')\n",
    "    print()"
   ]
  },
  {
   "cell_type": "code",
   "execution_count": 8,
   "metadata": {},
   "outputs": [
    {
     "name": "stdout",
     "output_type": "stream",
     "text": [
      "  * * *   \n",
      "*       * \n",
      "*         \n",
      "*   * * * \n",
      "*       * \n",
      "*       * \n",
      "  * * *   \n"
     ]
    }
   ],
   "source": [
    "## print alphabet  pattern 'G'\n",
    "for row in range(7):\n",
    "    for col in range(5):\n",
    "        if (row in {0,6}) and (col in {1,2,3}):\n",
    "            print('*', end=\" \")\n",
    "        elif (row in {1,4,5}) and (col in {0,4}):\n",
    "            print('*', end=\" \")\n",
    "        elif (row == 2 ) and (col == 0):\n",
    "            print('*', end=\" \")\n",
    "        elif (row == 3) and (col != 1):\n",
    "            print('*', end=\" \")\n",
    "        else:\n",
    "            print(' ', end=\" \")\n",
    "    \n",
    "    print()"
   ]
  },
  {
   "cell_type": "code",
   "execution_count": 9,
   "metadata": {},
   "outputs": [
    {
     "name": "stdout",
     "output_type": "stream",
     "text": [
      "*       * \n",
      "*       * \n",
      "*       * \n",
      "* * * * * \n",
      "*       * \n",
      "*       * \n",
      "*       * \n"
     ]
    }
   ],
   "source": [
    "## print alphabet  pattern 'H'\n",
    "for row in range(7):\n",
    "    for col in range(5):\n",
    "        if row in {0,1,2,4,5,6} and col in {0,4}:\n",
    "            print('*', end=\" \")\n",
    "        elif (row == 3):\n",
    "            print('*', end=\" \")\n",
    "        else:\n",
    "            print(' ', end=\" \")\n",
    "    print()"
   ]
  },
  {
   "cell_type": "code",
   "execution_count": 10,
   "metadata": {},
   "outputs": [
    {
     "name": "stdout",
     "output_type": "stream",
     "text": [
      "* * * * * \n",
      "    *     \n",
      "    *     \n",
      "    *     \n",
      "    *     \n",
      "    *     \n",
      "* * * * * \n"
     ]
    }
   ],
   "source": [
    "## print alphabet  pattern 'I'\n",
    "\n",
    "for row in range(7):\n",
    "    for col in range(5):\n",
    "        if row in {0,6} and col in {0,1,2,3,4}:\n",
    "            print('*', end=\" \")\n",
    "        elif row in {1,2,3,4,5} and col in {2}:\n",
    "            print('*', end=' ')\n",
    "        else:\n",
    "            print(' ', end=' ')\n",
    "    print()"
   ]
  },
  {
   "cell_type": "code",
   "execution_count": 11,
   "metadata": {},
   "outputs": [
    {
     "name": "stdout",
     "output_type": "stream",
     "text": [
      "* * * * * \n",
      "    *     \n",
      "    *     \n",
      "    *     \n",
      "    *     \n",
      "*   *     \n",
      "  *       \n"
     ]
    }
   ],
   "source": [
    "## print alphabet  pattern 'J'\n",
    "\n",
    "for row in range(7):\n",
    "    for col  in range(5):\n",
    "        if row in {0} and col in {0,1,2,3,4}:\n",
    "            print('*', end=\" \")\n",
    "        elif row in {5} and col in {0, 2}:\n",
    "             print('*', end=\" \")\n",
    "        elif (row ==6) and (col == 1):\n",
    "            print('*', end=' ')\n",
    "        elif row in {1,2,3,4} and col in {2}:\n",
    "            print('*', end=' ')\n",
    "        else:\n",
    "            print(' ', end=' ')\n",
    "    print()\n",
    "            \n"
   ]
  },
  {
   "cell_type": "code",
   "execution_count": 12,
   "metadata": {},
   "outputs": [
    {
     "name": "stdout",
     "output_type": "stream",
     "text": [
      "*       *  \n",
      "*     *    \n",
      "*   *      \n",
      "* *        \n",
      "*   *      \n",
      "*     *    \n",
      "*       *  \n"
     ]
    }
   ],
   "source": [
    "## print alphabet  pattern 'K'\n",
    "\n",
    "\n",
    "for row in range(7):\n",
    "    for col in range(5):\n",
    "        if row in {0,6} and col in {0, 4}:\n",
    "            print('*', end=\" \")\n",
    "        elif row in {1,5} and col in {0,3}:\n",
    "            print('*', end=\" \") \n",
    "        elif row in {2, 4} and col in {0,2}:\n",
    "            print('*', end=\" \")\n",
    "        elif row in {3} and col in {0,1}:\n",
    "            print('*', end=\" \")\n",
    "        else:\n",
    "            print(' ', end=\" \")\n",
    "    print(' ')\n",
    "        "
   ]
  },
  {
   "cell_type": "code",
   "execution_count": 13,
   "metadata": {},
   "outputs": [
    {
     "name": "stdout",
     "output_type": "stream",
     "text": [
      "*         \n",
      "*         \n",
      "*         \n",
      "*         \n",
      "*         \n",
      "*         \n",
      "* * * * * \n"
     ]
    }
   ],
   "source": [
    "## print alphabet  pattern 'L'\n",
    "\n",
    "for row in range(7):\n",
    "    for col in range(5):\n",
    "        if row in {0,1,2,3,4,5} and col in {0}:\n",
    "            print('*', end=\" \")\n",
    "        elif row in {6} and col in {0,1,2,3,4}:\n",
    "            print('*', end=\" \")\n",
    "        else:\n",
    "            print(' ', end=' ')\n",
    "    print()"
   ]
  },
  {
   "cell_type": "code",
   "execution_count": 14,
   "metadata": {},
   "outputs": [
    {
     "name": "stdout",
     "output_type": "stream",
     "text": [
      "*       * \n",
      "* *   * * \n",
      "*   *   * \n",
      "*       * \n",
      "*       * \n",
      "*       * \n",
      "*       * \n"
     ]
    }
   ],
   "source": [
    "## print alphabet  pattern 'M'\n",
    "\n",
    "for row in range(7):\n",
    "    for col in range(5):\n",
    "        if (row not in {1,2}) and (col in (0,4)):\n",
    "            print('*', end=\" \")\n",
    "        elif row == 1 and col !=2 :\n",
    "            print('*', end=\" \")\n",
    "        elif row == 2 and col in {0,2,4} :\n",
    "            print('*', end=\" \")\n",
    "        else:\n",
    "            print(' ', end=' ')\n",
    "    print()"
   ]
  },
  {
   "cell_type": "code",
   "execution_count": 15,
   "metadata": {},
   "outputs": [
    {
     "name": "stdout",
     "output_type": "stream",
     "text": [
      "*         * \n",
      "* *       * \n",
      "*   *     * \n",
      "*     *   * \n",
      "*       * * \n",
      "*         * \n"
     ]
    }
   ],
   "source": [
    "## print alphabet  pattern 'N' (Case 6 * 6)\n",
    "for row in range(6):\n",
    "    for col in range(6):\n",
    "        if row in {0,5} and col in {0,5}:\n",
    "            print('*', end=\" \")\n",
    "        elif row == 1 and col in {0,1,5}:\n",
    "            print('*', end=\" \")\n",
    "        elif row == 2 and col in {0,2,5}:\n",
    "            print('*', end=\" \") \n",
    "        elif row == 3 and col in {0,3,5}:\n",
    "            print('*', end=\" \")\n",
    "        elif row == 4 and col in {0,4,5}:\n",
    "            print('*', end=\" \")\n",
    "        else:\n",
    "            print(' ', end=\" \")\n",
    "    print()\n",
    "            \n",
    "            \n"
   ]
  },
  {
   "cell_type": "code",
   "execution_count": 16,
   "metadata": {},
   "outputs": [
    {
     "name": "stdout",
     "output_type": "stream",
     "text": [
      "  * * *   \n",
      "*       * \n",
      "*       * \n",
      "*       * \n",
      "*       * \n",
      "*       * \n",
      "  * * *   \n"
     ]
    }
   ],
   "source": [
    "## print alphabet  pattern 'O'\n",
    "\n",
    "for row in range(7):\n",
    "    for col in range(5):\n",
    "        if row in {0,6} and col in (1,2,3):\n",
    "            print('*', end=\" \")\n",
    "        elif row not in {0,6} and col in {0,4}:\n",
    "            print('*', end=\" \")\n",
    "        else:\n",
    "            print(' ', end=\" \")\n",
    "    print()\n",
    "            \n"
   ]
  },
  {
   "cell_type": "code",
   "execution_count": 17,
   "metadata": {},
   "outputs": [
    {
     "name": "stdout",
     "output_type": "stream",
     "text": [
      "* * * *   \n",
      "*       * \n",
      "*       * \n",
      "* * * *   \n",
      "*         \n",
      "*         \n",
      "*         \n"
     ]
    }
   ],
   "source": [
    "## print alphabet  pattern 'P'\n",
    "\n",
    "for row in range(7):\n",
    "    for col in range(5):\n",
    "        if row in {0,3} and col != 4 :\n",
    "            print('*', end=\" \")\n",
    "        elif row in {1,2} and col in {0,4}:\n",
    "            print('*', end=\" \")\n",
    "        elif row in {4,5,6} and col in {0}:\n",
    "            print('*', end=\" \")\n",
    "        else:\n",
    "            print(' ', end=\" \")\n",
    "    print()\n",
    "            "
   ]
  },
  {
   "cell_type": "code",
   "execution_count": 18,
   "metadata": {},
   "outputs": [
    {
     "name": "stdout",
     "output_type": "stream",
     "text": [
      "  * * *   \n",
      "*       * \n",
      "*       * \n",
      "*       * \n",
      "*       * \n",
      "*   *   * \n",
      "  * * *   \n",
      "        * \n"
     ]
    }
   ],
   "source": [
    "## print alphabet  pattern 'Q'\n",
    "\n",
    "for row in range(8):\n",
    "    for col in range(5):\n",
    "        if row in {0,6} and col in (1,2,3):\n",
    "            print('*', end=\" \")\n",
    "        elif row  in {1,2,3,4} and col in {0,4}:\n",
    "            print('*', end=\" \")\n",
    "        elif row  in {5} and col in {0,2,4}:\n",
    "            print('*', end=\" \")\n",
    "        elif row == 7 and col == 4:\n",
    "            print('*', end=\" \")   \n",
    "        else:\n",
    "            print(' ', end=\" \")\n",
    "    print()\n",
    "            \n"
   ]
  },
  {
   "cell_type": "code",
   "execution_count": 19,
   "metadata": {},
   "outputs": [
    {
     "name": "stdout",
     "output_type": "stream",
     "text": [
      "* * * *   \n",
      "*       * \n",
      "*       * \n",
      "* * * *   \n",
      "*       * \n",
      "*       * \n",
      "*       * \n"
     ]
    }
   ],
   "source": [
    "## print alphabet  pattern 'R'\n",
    "\n",
    "for row in range(7):\n",
    "    for col in range(5):\n",
    "        if row in {0,3} and col != 4:\n",
    "            print('*', end=\" \")\n",
    "        elif row in {1,2,4,5,6} and col in {0,4}:\n",
    "            print('*', end=\" \")\n",
    "        else:\n",
    "            print(' ', end=\" \")\n",
    "    print()\n",
    "            "
   ]
  },
  {
   "cell_type": "code",
   "execution_count": 20,
   "metadata": {},
   "outputs": [
    {
     "name": "stdout",
     "output_type": "stream",
     "text": [
      "  * * *   \n",
      "*         \n",
      "*         \n",
      "  * * *   \n",
      "        * \n",
      "        * \n",
      "  * * *   \n"
     ]
    }
   ],
   "source": [
    "## print alphabet  pattern 'R'\n",
    "\n",
    "for row in range(7):\n",
    "    for col in range(5):\n",
    "        if row in {0,3,6} and col in {1,2,3}:\n",
    "            print('*', end=\" \")\n",
    "        elif row in {1,2} and col == 0:\n",
    "            print('*', end=\" \")\n",
    "        elif row in {4,5} and col == 4:\n",
    "            print('*', end=\" \")\n",
    "        else:\n",
    "            print(' ', end=\" \")\n",
    "    print()\n",
    "            "
   ]
  },
  {
   "cell_type": "code",
   "execution_count": 21,
   "metadata": {},
   "outputs": [
    {
     "name": "stdout",
     "output_type": "stream",
     "text": [
      "* * * * * \n",
      "    *     \n",
      "    *     \n",
      "    *     \n",
      "    *     \n",
      "    *     \n",
      "    *     \n"
     ]
    }
   ],
   "source": [
    "## print alphabet  pattern 'T'\n",
    "\n",
    "for row in range(7):\n",
    "    for col in range(5):\n",
    "        if row == 0 and col <=4:\n",
    "            print('*', end=\" \")\n",
    "        elif row !=0 and col == 2:\n",
    "            print('*', end=\" \")\n",
    "        else:\n",
    "            print(' ', end=\" \")\n",
    "    print()"
   ]
  },
  {
   "cell_type": "code",
   "execution_count": 22,
   "metadata": {},
   "outputs": [
    {
     "name": "stdout",
     "output_type": "stream",
     "text": [
      "*       * \n",
      "*       * \n",
      "*       * \n",
      "*       * \n",
      "*       * \n",
      "*       * \n",
      "  * * *   \n"
     ]
    }
   ],
   "source": [
    "## print alphabet  pattern 'U'\n",
    "\n",
    "for row in range(7):\n",
    "    for col in range(5):\n",
    "        if row == 6 and col in {1,2,3}:\n",
    "            print('*', end=\" \") \n",
    "        elif row !=6 and col in {0,4}:\n",
    "            print('*', end=\" \")\n",
    "        else:\n",
    "            print(' ', end=\" \")\n",
    "    print()"
   ]
  },
  {
   "cell_type": "code",
   "execution_count": 23,
   "metadata": {},
   "outputs": [
    {
     "name": "stdout",
     "output_type": "stream",
     "text": [
      "*           * \n",
      "  *       *   \n",
      "    *   *     \n",
      "      *       \n"
     ]
    }
   ],
   "source": [
    "## print alphabet  pattern 'V'\n",
    "\n",
    "for row in range(4):\n",
    "    for col in range(7):\n",
    "        if row == 0 and col in {0,6}:\n",
    "            print('*', end=\" \") \n",
    "        elif row == 1 and col in {1,5}:\n",
    "            print('*', end=\" \")\n",
    "        elif row == 2 and col in {2,4}:\n",
    "            print('*', end=\" \")\n",
    "        elif row == 3 and col == 3:\n",
    "            print('*', end=\" \")\n",
    "        else:\n",
    "            print(' ', end=\" \")\n",
    "    print()\n",
    "        "
   ]
  },
  {
   "cell_type": "code",
   "execution_count": 24,
   "metadata": {},
   "outputs": [
    {
     "name": "stdout",
     "output_type": "stream",
     "text": [
      "*     *     * \n",
      "*   *   *   * \n",
      "* *       * * \n",
      "*           * \n",
      "              \n"
     ]
    }
   ],
   "source": [
    "## print alphabet  pattern 'W'\n",
    "\n",
    "for row in range(5):\n",
    "    for col in range(7):\n",
    "        if row == 0 and col in {0,3,6}:\n",
    "             print('*', end=\" \")\n",
    "        elif row == 1 and col in {0,2,4,6}:\n",
    "            print('*', end=\" \")\n",
    "        elif row == 2 and col in {0,1,5,6}:\n",
    "            print('*', end=\" \")\n",
    "        elif row == 3 and col in {0,6}:\n",
    "            print('*', end=\" \")\n",
    "        else:\n",
    "            print(' ', end=\" \") \n",
    "    print()"
   ]
  },
  {
   "cell_type": "code",
   "execution_count": 25,
   "metadata": {},
   "outputs": [
    {
     "name": "stdout",
     "output_type": "stream",
     "text": [
      "*       * \n",
      "  *   *   \n",
      "    *     \n",
      "  *   *   \n",
      "*       * \n"
     ]
    }
   ],
   "source": [
    "## print alphabet  pattern 'X'\n",
    "\n",
    "for row in range(5):\n",
    "    for col in range(5):\n",
    "        if row in {0,4} and col in {0,4}:\n",
    "             print('*', end=\" \")\n",
    "        elif row in {1,3} and col in {1,3}:\n",
    "            print('*', end=\" \")\n",
    "        elif row == 2 and col == 2:\n",
    "            print('*', end=' ')\n",
    "        else:\n",
    "            print(' ', end=\" \")\n",
    "    print()"
   ]
  },
  {
   "cell_type": "code",
   "execution_count": 26,
   "metadata": {},
   "outputs": [
    {
     "name": "stdout",
     "output_type": "stream",
     "text": [
      "*       * \n",
      "  *   *   \n",
      "    *     \n",
      "    *     \n",
      "    *     \n"
     ]
    }
   ],
   "source": [
    "## print alphabet  pattern 'Y'\n",
    "\n",
    "for row in range(5):\n",
    "    for col in range(5):\n",
    "        if row == 0 and col in {0,4}:\n",
    "            print('*', end =' ')\n",
    "        elif row == 1 and col in {1,3}:\n",
    "             print('*', end =' ')\n",
    "        elif row in {2,3,4} and col in {2}:\n",
    "              print('*', end =' ')\n",
    "        else:\n",
    "             print(' ', end =' ')\n",
    "    print()\n"
   ]
  },
  {
   "cell_type": "code",
   "execution_count": 27,
   "metadata": {},
   "outputs": [
    {
     "name": "stdout",
     "output_type": "stream",
     "text": [
      "* * * * * * \n",
      "        *   \n",
      "      *     \n",
      "    *       \n",
      "  *         \n",
      "* * * * * * \n"
     ]
    }
   ],
   "source": [
    "## print alphabet  pattern 'Z'\n",
    "\n",
    "for row in range(6):\n",
    "    for col in range(6):\n",
    "        if row in {0,5} and col <=5:\n",
    "            print('*', end =' ')\n",
    "        elif row == 1 and col == 4:\n",
    "            print('*', end =' ')\n",
    "        elif row == 2 and col == 3:\n",
    "            print('*', end =' ')\n",
    "        elif row == 3 and col == 2:\n",
    "            print('*', end =' ')\n",
    "        elif row == 4 and col == 1:\n",
    "            print('*', end =' ')\n",
    "        else:\n",
    "            print(' ', end =' ')\n",
    "    print()\n",
    "        \n",
    "        \n",
    "    \n"
   ]
  },
  {
   "cell_type": "markdown",
   "metadata": {},
   "source": [
    "                                    # #Happy Learning "
   ]
  }
 ],
 "metadata": {
  "kernelspec": {
   "display_name": "Python 3",
   "language": "python",
   "name": "python3"
  },
  "language_info": {
   "codemirror_mode": {
    "name": "ipython",
    "version": 3
   },
   "file_extension": ".py",
   "mimetype": "text/x-python",
   "name": "python",
   "nbconvert_exporter": "python",
   "pygments_lexer": "ipython3",
   "version": "3.7.6"
  }
 },
 "nbformat": 4,
 "nbformat_minor": 4
}
